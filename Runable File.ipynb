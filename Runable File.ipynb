{
 "cells": [
  {
   "cell_type": "code",
   "execution_count": null,
   "metadata": {},
   "outputs": [],
   "source": [
    "from Main import Index, LoadData, SearchImage,FeatureExtractor\n",
    "import os,shutil\n",
    "import matplotlib.pyplot as plt\n",
    "from PIL import Image"
   ]
  },
  {
   "cell_type": "code",
   "execution_count": null,
   "metadata": {},
   "outputs": [],
   "source": [
    "folder_path = \"D:\\Project\\Final Year\\Friend Rcommndation System\\FInal\\\\fi\\Images\\\\training\"\n",
    "image_list = LoadData().from_folder([folder_path])  "
   ]
  },
  {
   "cell_type": "code",
   "execution_count": null,
   "metadata": {},
   "outputs": [],
   "source": [
    "path = \"D:\\Project\\Final Year\\Friend Rcommndation System\\FInal\\\\fi\\Images\\\\training\\meta-data-files\"\n",
    "\n",
    "try: \n",
    "    shutil.rmtree(path) \n",
    "    print(\"% s removed successfully\" % path) \n",
    "except OSError as error: \n",
    "    print(error) \n",
    "    print(\"File path can not be removed\") "
   ]
  },
  {
   "cell_type": "code",
   "execution_count": null,
   "metadata": {},
   "outputs": [],
   "source": [
    "Index(image_list).Start()   "
   ]
  },
  {
   "cell_type": "code",
   "execution_count": null,
   "metadata": {},
   "outputs": [],
   "source": [
    "SearchImage().get_similar_images(image_path=\"D:\\Project\\Final Year\\Friend Rcommndation System\\FInal\\\\fi\\Images\\query\\\\00f713ac460e7e07e8aba53ee9ef3b47.jpg\",number_of_images=5)"
   ]
  },
  {
   "cell_type": "code",
   "execution_count": null,
   "metadata": {},
   "outputs": [],
   "source": [
    "path = \"D:\\Project\\Final Year\\Friend Rcommndation System\\FInal\\\\fi\\Images\\query\\\\00f713ac460e7e07e8aba53ee9ef3b47.jpg\"\n",
    "plt.imshow(Image.open(path))\n",
    "SearchImage().plot_similar_images(path)"
   ]
  },
  {
   "cell_type": "code",
   "execution_count": null,
   "metadata": {},
   "outputs": [],
   "source": [
    "fe = FeatureExtractor()\n",
    "fe.acc()"
   ]
  }
 ],
 "metadata": {
  "interpreter": {
   "hash": "63fd5069d213b44bf678585dea6b12cceca9941eaf7f819626cde1f2670de90d"
  },
  "kernelspec": {
   "display_name": "Python 3.9.7 64-bit",
   "language": "python",
   "name": "python3"
  },
  "language_info": {
   "codemirror_mode": {
    "name": "ipython",
    "version": 3
   },
   "file_extension": ".py",
   "mimetype": "text/x-python",
   "name": "python",
   "nbconvert_exporter": "python",
   "pygments_lexer": "ipython3",
   "version": "3.9.7"
  },
  "orig_nbformat": 4
 },
 "nbformat": 4,
 "nbformat_minor": 2
}
