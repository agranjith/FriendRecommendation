{
 "cells": [
  {
   "cell_type": "code",
   "execution_count": null,
   "metadata": {},
   "outputs": [],
   "source": [
    "from Main import Index, LoadData, SearchImage,FeatureExtractor,Encrytion\n",
    "import os,shutil\n",
    "import matplotlib.pyplot as plt\n",
    "from PIL import Image"
   ]
  },
  {
   "cell_type": "code",
   "execution_count": null,
   "metadata": {},
   "outputs": [],
   "source": [
    "path = \"D:\\Project\\Final Year\\Friend Rcommndation System\\Final 2\\\\target\\\\blurred_image\"\n",
    "\n",
    "try: \n",
    "    shutil.rmtree(path) \n",
    "    print(\"% s removed successfully\" % path) \n",
    "    os.mkdir(path=path)\n",
    "except OSError as error: \n",
    "    print(error) \n",
    "    print(\"File path can not be removed\") "
   ]
  },
  {
   "cell_type": "code",
   "execution_count": null,
   "metadata": {},
   "outputs": [],
   "source": [
    "fileSourcePath = \"D:\\Project\\Final Year\\Friend Rcommndation System\\Final 2\\images\\\\apparels\\images\\*.jpg\"\n",
    "resultOutputPath = \"D:\\Project\\Final Year\\Friend Rcommndation System\\Final 2\\\\target\\\\blurred_image\\\\\"\n",
    "enc = Encrytion()\n",
    "enc.iterateAndParseFolder(fileSourcePath,resultOutputPath)"
   ]
  },
  {
   "cell_type": "code",
   "execution_count": null,
   "metadata": {},
   "outputs": [],
   "source": [
    "folder_path = \"D:\\Project\\Final Year\\Friend Rcommndation System\\OpenCV\\photos\\\\blured\"\n",
    "image_list = LoadData().from_folder([folder_path])  "
   ]
  },
  {
   "cell_type": "code",
   "execution_count": null,
   "metadata": {},
   "outputs": [],
   "source": [
    "path = \"D:\\Project\\Final Year\\Friend Rcommndation System\\OpenCV\\photos\\meta-data-files\"\n",
    "\n",
    "try: \n",
    "    shutil.rmtree(path) \n",
    "    print(\"% s removed successfully\" % path) \n",
    "except OSError as error: \n",
    "    print(error) \n",
    "    print(\"File path can not be removed\") "
   ]
  },
  {
   "cell_type": "code",
   "execution_count": null,
   "metadata": {},
   "outputs": [],
   "source": [
    "Index(image_list).Start()   "
   ]
  },
  {
   "cell_type": "code",
   "execution_count": null,
   "metadata": {},
   "outputs": [],
   "source": [
    "# SearchImage().get_similar_images(image_path=\"D:\\Project\\Final Year\\Friend Rcommndation System\\Final 2\\Images\\query\\\\00cd24b40b966cc8037c5a7302b7af23.jpg\",number_of_images=5)"
   ]
  },
  {
   "cell_type": "code",
   "execution_count": null,
   "metadata": {},
   "outputs": [],
   "source": [
    "# fe = FeatureExtractor()\n",
    "# fe.acc()"
   ]
  },
  {
   "cell_type": "code",
   "execution_count": null,
   "metadata": {},
   "outputs": [],
   "source": [
    "path = \"D:\\Project\\Final Year\\Friend Rcommndation System\\OpenCV\\photos\\query\\IMG_20200617_173655.jpg\"\n",
    "plt.imshow(Image.open(path))\n",
    "SearchImage().plot_similar_images(path)"
   ]
  }
 ],
 "metadata": {
  "interpreter": {
   "hash": "81794d4967e6c3204c66dcd87b604927b115b27c00565d3d43f05ba2f3a2cb0d"
  },
  "kernelspec": {
   "display_name": "Python 3.9.7 64-bit",
   "language": "python",
   "name": "python3"
  },
  "language_info": {
   "codemirror_mode": {
    "name": "ipython",
    "version": 3
   },
   "file_extension": ".py",
   "mimetype": "text/x-python",
   "name": "python",
   "nbconvert_exporter": "python",
   "pygments_lexer": "ipython3",
   "version": "3.9.7"
  },
  "orig_nbformat": 4
 },
 "nbformat": 4,
 "nbformat_minor": 2
}
